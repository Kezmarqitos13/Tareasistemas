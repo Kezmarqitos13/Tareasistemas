{
  "nbformat": 4,
  "nbformat_minor": 0,
  "metadata": {
    "colab": {
      "provenance": [],
      "authorship_tag": "ABX9TyMrTgSFbcrdaPNpvdvXeDhl",
      "include_colab_link": true
    },
    "kernelspec": {
      "name": "python3",
      "display_name": "Python 3"
    },
    "language_info": {
      "name": "python"
    }
  },
  "cells": [
    {
      "cell_type": "markdown",
      "metadata": {
        "id": "view-in-github",
        "colab_type": "text"
      },
      "source": [
        "<a href=\"https://colab.research.google.com/github/Kezmarqitos13/Tareasistemas/blob/main/Tarea_2_Marcos_Mendiola_J.ipynb\" target=\"_parent\"><img src=\"https://colab.research.google.com/assets/colab-badge.svg\" alt=\"Open In Colab\"/></a>"
      ]
    },
    {
      "cell_type": "markdown",
      "source": [
        "# Tarea 2: Introduccción a al programación\n",
        "## Nombre del alumno: Marcos Mendiola Jiménez\n",
        "## Universidad Uk\n",
        "## Nombre del profesor: M.Sc. Emmanuel Isaac Juárez Caballero"
      ],
      "metadata": {
        "id": "VCejgYiWCoTQ"
      }
    },
    {
      "cell_type": "code",
      "execution_count": 25,
      "metadata": {
        "colab": {
          "base_uri": "https://localhost:8080/"
        },
        "id": "u3aZUY5HPauE",
        "outputId": "0e4ab294-28cd-48f8-cbc0-c21f1d0288a6"
      },
      "outputs": [
        {
          "output_type": "execute_result",
          "data": {
            "text/plain": [
              "[('Lámparas', 4, 'Entrada'),\n",
              " ('Lámparas', 2, 'Salida'),\n",
              " ('Ventiladores', 5, 'Entrada'),\n",
              " ('Ventiladores', 3, 'Salida'),\n",
              " ('Teclados', 6, 'Entrada'),\n",
              " ('Teclados', 4, 'Salida')]"
            ]
          },
          "metadata": {},
          "execution_count": 25
        }
      ],
      "source": [
        "# Actividad 1\n",
        "transacciones=[] # Aqui se alamacena la información\n",
        "\n",
        "def update_stock(product, quantity, action):\n",
        "  \"\"\"\n",
        "  Esta función lo que hace es actualizar el stock\n",
        "  parametros: producto, cantidad, acción\n",
        "  usa una tupla pra almacenar la información\n",
        "  inserta el valor de la tupla dentro de una lista de tansacciones\n",
        "  \"\"\"\n",
        "  tupla=(product, quantity, action)\n",
        "  transacciones.append(tupla)\n",
        "  return transacciones\n",
        "update_stock(\"Lámparas\",4, \"Entrada\")\n",
        "update_stock(\"Lámparas\",2, \"Salida\")\n",
        "update_stock(\"Ventiladores\",5,\"Entrada\")\n",
        "update_stock(\"Ventiladores\",3,\"Salida\")\n",
        "update_stock(\"Teclados\",6,\"Entrada\")\n",
        "update_stock(\"Teclados\",4,\"Salida\")"
      ]
    },
    {
      "cell_type": "code",
      "source": [
        "#Actividad 1\n",
        "transacciones=[] # Aqui se alamacena la información\n",
        "\n",
        "def update_stock(product, quantity, action,lista):\n",
        "  \"\"\"\n",
        "  Esta función lo que hace es actualizar el stock\n",
        "  parametros: producto, cantidad, accion\n",
        "  usa una tupla para almacenar la información\n",
        "  inserta el valor de la tupla dentro de una lista de transacciones\n",
        "  \"\"\"\n",
        "  tupla=(product,quantity,action)\n",
        "  lista.append(tupla)\n",
        "  return lista\n",
        "\n",
        "def menu(lista):\n",
        "  print(\"Opción 1: Agregar valores al stock.\\n Opción 2: Mostrar el stock.\\n Opción 3: Salir\")\n",
        "  opcion=int(input(\"Introduce la opción adecuada:\"))# Pidamosle al usuario una opcion\n",
        "  if opcion==1:\n",
        "    print(\"Añado valores al stock\")\n",
        "    product=input(\"Introduce el producto:\")\n",
        "    quantity=int(input(\"Introduce la cantidad:\"))\n",
        "    action=input(\"Introduce la acción:\")\n",
        "    update_stock(product, quantity, action,lista)\n",
        "  elif opcion==2:\n",
        "    print(\"Mostrar el stock\")\n",
        "    print(lista)\n",
        "  elif opcion==3:\n",
        "    print(\"Saliendo....\")\n",
        "    a=False\n",
        "    return a\n",
        "  else:\n",
        "    print(\"Opción no válida\")\n",
        "    pass\n",
        "\n",
        "def main():\n",
        "  transacciones=[]\n",
        "  while True:\n",
        "    menu(transacciones)"
      ],
      "metadata": {
        "id": "YnsT4AYYkVoa"
      },
      "execution_count": 37,
      "outputs": []
    },
    {
      "cell_type": "code",
      "source": [
        "main()"
      ],
      "metadata": {
        "colab": {
          "base_uri": "https://localhost:8080/",
          "height": 615
        },
        "id": "UL14QJ5gErrC",
        "outputId": "3cb658a4-8eb9-486d-dceb-56b898ffe801"
      },
      "execution_count": 38,
      "outputs": [
        {
          "output_type": "stream",
          "name": "stdout",
          "text": [
            "Opción 1: Agregar valores al stock.\n",
            " Opción 2: Mostrar el stock.\n",
            " Opción 3: Salir\n",
            "Introduce la opción adecuada:1\n",
            "Añado valores al stock\n",
            "Introduce el producto:ventiladores\n",
            "Introduce la cantidad:2\n",
            "Introduce la acción:Entrada\n",
            "Opción 1: Agregar valores al stock.\n",
            " Opción 2: Mostrar el stock.\n",
            " Opción 3: Salir\n",
            "Introduce la opción adecuada:3\n",
            "Saliendo....\n",
            "Opción 1: Agregar valores al stock.\n",
            " Opción 2: Mostrar el stock.\n",
            " Opción 3: Salir\n"
          ]
        },
        {
          "output_type": "error",
          "ename": "KeyboardInterrupt",
          "evalue": "Interrupted by user",
          "traceback": [
            "\u001b[0;31m---------------------------------------------------------------------------\u001b[0m",
            "\u001b[0;31mKeyboardInterrupt\u001b[0m                         Traceback (most recent call last)",
            "\u001b[0;32m<ipython-input-38-263240bbee7e>\u001b[0m in \u001b[0;36m<cell line: 0>\u001b[0;34m()\u001b[0m\n\u001b[0;32m----> 1\u001b[0;31m \u001b[0mmain\u001b[0m\u001b[0;34m(\u001b[0m\u001b[0;34m)\u001b[0m\u001b[0;34m\u001b[0m\u001b[0;34m\u001b[0m\u001b[0m\n\u001b[0m",
            "\u001b[0;32m<ipython-input-37-92c618731a79>\u001b[0m in \u001b[0;36mmain\u001b[0;34m()\u001b[0m\n\u001b[1;32m     36\u001b[0m   \u001b[0mtransacciones\u001b[0m\u001b[0;34m=\u001b[0m\u001b[0;34m[\u001b[0m\u001b[0;34m]\u001b[0m\u001b[0;34m\u001b[0m\u001b[0;34m\u001b[0m\u001b[0m\n\u001b[1;32m     37\u001b[0m   \u001b[0;32mwhile\u001b[0m \u001b[0;32mTrue\u001b[0m\u001b[0;34m:\u001b[0m\u001b[0;34m\u001b[0m\u001b[0;34m\u001b[0m\u001b[0m\n\u001b[0;32m---> 38\u001b[0;31m     \u001b[0mmenu\u001b[0m\u001b[0;34m(\u001b[0m\u001b[0mtransacciones\u001b[0m\u001b[0;34m)\u001b[0m\u001b[0;34m\u001b[0m\u001b[0;34m\u001b[0m\u001b[0m\n\u001b[0m",
            "\u001b[0;32m<ipython-input-37-92c618731a79>\u001b[0m in \u001b[0;36mmenu\u001b[0;34m(lista)\u001b[0m\n\u001b[1;32m     15\u001b[0m \u001b[0;32mdef\u001b[0m \u001b[0mmenu\u001b[0m\u001b[0;34m(\u001b[0m\u001b[0mlista\u001b[0m\u001b[0;34m)\u001b[0m\u001b[0;34m:\u001b[0m\u001b[0;34m\u001b[0m\u001b[0;34m\u001b[0m\u001b[0m\n\u001b[1;32m     16\u001b[0m   \u001b[0mprint\u001b[0m\u001b[0;34m(\u001b[0m\u001b[0;34m\"Opción 1: Agregar valores al stock.\\n Opción 2: Mostrar el stock.\\n Opción 3: Salir\"\u001b[0m\u001b[0;34m)\u001b[0m\u001b[0;34m\u001b[0m\u001b[0;34m\u001b[0m\u001b[0m\n\u001b[0;32m---> 17\u001b[0;31m   \u001b[0mopcion\u001b[0m\u001b[0;34m=\u001b[0m\u001b[0mint\u001b[0m\u001b[0;34m(\u001b[0m\u001b[0minput\u001b[0m\u001b[0;34m(\u001b[0m\u001b[0;34m\"Introduce la opción adecuada:\"\u001b[0m\u001b[0;34m)\u001b[0m\u001b[0;34m)\u001b[0m\u001b[0;31m# Pidamosle al usuario una opcion\u001b[0m\u001b[0;34m\u001b[0m\u001b[0;34m\u001b[0m\u001b[0m\n\u001b[0m\u001b[1;32m     18\u001b[0m   \u001b[0;32mif\u001b[0m \u001b[0mopcion\u001b[0m\u001b[0;34m==\u001b[0m\u001b[0;36m1\u001b[0m\u001b[0;34m:\u001b[0m\u001b[0;34m\u001b[0m\u001b[0;34m\u001b[0m\u001b[0m\n\u001b[1;32m     19\u001b[0m     \u001b[0mprint\u001b[0m\u001b[0;34m(\u001b[0m\u001b[0;34m\"Añado valores al stock\"\u001b[0m\u001b[0;34m)\u001b[0m\u001b[0;34m\u001b[0m\u001b[0;34m\u001b[0m\u001b[0m\n",
            "\u001b[0;32m/usr/local/lib/python3.11/dist-packages/ipykernel/kernelbase.py\u001b[0m in \u001b[0;36mraw_input\u001b[0;34m(self, prompt)\u001b[0m\n\u001b[1;32m    849\u001b[0m                 \u001b[0;34m\"raw_input was called, but this frontend does not support input requests.\"\u001b[0m\u001b[0;34m\u001b[0m\u001b[0;34m\u001b[0m\u001b[0m\n\u001b[1;32m    850\u001b[0m             )\n\u001b[0;32m--> 851\u001b[0;31m         return self._input_request(str(prompt),\n\u001b[0m\u001b[1;32m    852\u001b[0m             \u001b[0mself\u001b[0m\u001b[0;34m.\u001b[0m\u001b[0m_parent_ident\u001b[0m\u001b[0;34m,\u001b[0m\u001b[0;34m\u001b[0m\u001b[0;34m\u001b[0m\u001b[0m\n\u001b[1;32m    853\u001b[0m             \u001b[0mself\u001b[0m\u001b[0;34m.\u001b[0m\u001b[0m_parent_header\u001b[0m\u001b[0;34m,\u001b[0m\u001b[0;34m\u001b[0m\u001b[0;34m\u001b[0m\u001b[0m\n",
            "\u001b[0;32m/usr/local/lib/python3.11/dist-packages/ipykernel/kernelbase.py\u001b[0m in \u001b[0;36m_input_request\u001b[0;34m(self, prompt, ident, parent, password)\u001b[0m\n\u001b[1;32m    893\u001b[0m             \u001b[0;32mexcept\u001b[0m \u001b[0mKeyboardInterrupt\u001b[0m\u001b[0;34m:\u001b[0m\u001b[0;34m\u001b[0m\u001b[0;34m\u001b[0m\u001b[0m\n\u001b[1;32m    894\u001b[0m                 \u001b[0;31m# re-raise KeyboardInterrupt, to truncate traceback\u001b[0m\u001b[0;34m\u001b[0m\u001b[0;34m\u001b[0m\u001b[0m\n\u001b[0;32m--> 895\u001b[0;31m                 \u001b[0;32mraise\u001b[0m \u001b[0mKeyboardInterrupt\u001b[0m\u001b[0;34m(\u001b[0m\u001b[0;34m\"Interrupted by user\"\u001b[0m\u001b[0;34m)\u001b[0m \u001b[0;32mfrom\u001b[0m \u001b[0;32mNone\u001b[0m\u001b[0;34m\u001b[0m\u001b[0;34m\u001b[0m\u001b[0m\n\u001b[0m\u001b[1;32m    896\u001b[0m             \u001b[0;32mexcept\u001b[0m \u001b[0mException\u001b[0m \u001b[0;32mas\u001b[0m \u001b[0me\u001b[0m\u001b[0;34m:\u001b[0m\u001b[0;34m\u001b[0m\u001b[0;34m\u001b[0m\u001b[0m\n\u001b[1;32m    897\u001b[0m                 \u001b[0mself\u001b[0m\u001b[0;34m.\u001b[0m\u001b[0mlog\u001b[0m\u001b[0;34m.\u001b[0m\u001b[0mwarning\u001b[0m\u001b[0;34m(\u001b[0m\u001b[0;34m\"Invalid Message:\"\u001b[0m\u001b[0;34m,\u001b[0m \u001b[0mexc_info\u001b[0m\u001b[0;34m=\u001b[0m\u001b[0;32mTrue\u001b[0m\u001b[0;34m)\u001b[0m\u001b[0;34m\u001b[0m\u001b[0;34m\u001b[0m\u001b[0m\n",
            "\u001b[0;31mKeyboardInterrupt\u001b[0m: Interrupted by user"
          ]
        }
      ]
    },
    {
      "cell_type": "code",
      "source": [
        "#Actividad 2\n",
        "lst=[]\n",
        "for i in range(10):\n",
        "  product=input(\"Introduce el producto:\")\n",
        "  quantity=int(input(\"Introduce la cantidad:\"))\n",
        "  action=input(\"Introduce la acción:\")\n",
        "  update_stock(product, quantity, action,lst)"
      ],
      "metadata": {
        "colab": {
          "base_uri": "https://localhost:8080/"
        },
        "id": "f1sGIOu9tiWY",
        "outputId": "ceb1468f-e0bf-4c6c-eb22-8f1f39f772ad"
      },
      "execution_count": 18,
      "outputs": [
        {
          "name": "stdout",
          "output_type": "stream",
          "text": [
            "Introduce el producto:lampara\n",
            "Introduce la cantidad:3\n",
            "Introduce la acción:entrada\n",
            "Introduce el producto:lampara\n",
            "Introduce la cantidad:5\n",
            "Introduce la acción:entrada\n",
            "Introduce el producto:lampara\n",
            "Introduce la cantidad:4\n",
            "Introduce la acción:salida\n",
            "Introduce el producto:ventiladores\n",
            "Introduce la cantidad:4\n",
            "Introduce la acción:entrada\n",
            "Introduce el producto:ventiladores\n",
            "Introduce la cantidad:8\n",
            "Introduce la acción:entrada\n",
            "Introduce el producto:ventiladores\n",
            "Introduce la cantidad:6\n",
            "Introduce la acción:salida\n",
            "Introduce el producto:teclado\n",
            "Introduce la cantidad:9\n",
            "Introduce la acción:entrada\n",
            "Introduce el producto:teclado\n",
            "Introduce la cantidad:7\n",
            "Introduce la acción:entrada\n",
            "Introduce el producto:teclado\n",
            "Introduce la cantidad:7\n",
            "Introduce la acción:salida\n",
            "Introduce el producto:lampara\n",
            "Introduce la cantidad:2\n",
            "Introduce la acción:salida\n"
          ]
        }
      ]
    },
    {
      "cell_type": "code",
      "source": [
        "lst"
      ],
      "metadata": {
        "colab": {
          "base_uri": "https://localhost:8080/"
        },
        "id": "y24sLDJztmoY",
        "outputId": "6d55de88-cc92-418d-f5c8-5e4826352a8c"
      },
      "execution_count": 19,
      "outputs": [
        {
          "output_type": "execute_result",
          "data": {
            "text/plain": [
              "[('lampara', 3, 'entrada'),\n",
              " ('lampara', 5, 'entrada'),\n",
              " ('lampara', 4, 'salida'),\n",
              " ('ventiladores', 4, 'entrada'),\n",
              " ('ventiladores', 8, 'entrada'),\n",
              " ('ventiladores', 6, 'salida'),\n",
              " ('teclado', 9, 'entrada'),\n",
              " ('teclado', 7, 'entrada'),\n",
              " ('teclado', 7, 'salida'),\n",
              " ('lampara', 2, 'salida')]"
            ]
          },
          "metadata": {},
          "execution_count": 19
        }
      ]
    },
    {
      "cell_type": "code",
      "source": [
        "diccionario={\"producto\":[],\"nivel_critico\":[],\"cantidad\":[]}\n",
        "lst_aux=[('lampara', 3, 'entrada'), ('teclado', 6, 'entrada'),('ventiladores', 8, 'entrada')]\n",
        "\n",
        "diccionario={\"producto\":[],\"nivel_critico\":[],\"cantidad\":[]}\n",
        "\n",
        "for i in range(len(lst_aux)):\n",
        "  diccionario[\"producto\"].append(lst_aux[i][0])\n",
        "  diccionario[\"cantidad\"].append(lst_aux[i][1])\n",
        "  if lst_aux[i][1]<3:\n",
        "    diccionario[\"nivel_critico\"].append(True)\n",
        "  else:\n",
        "    diccionario[\"nivel_critico\"].append(False)\n",
        "diccionario"
      ],
      "metadata": {
        "colab": {
          "base_uri": "https://localhost:8080/"
        },
        "id": "sELuSz-AuX2p",
        "outputId": "6b660d8b-a7eb-449a-fe45-0d62f21fb1e3"
      },
      "execution_count": 34,
      "outputs": [
        {
          "output_type": "execute_result",
          "data": {
            "text/plain": [
              "{'producto': ['lampara', 'teclado', 'ventiladores'],\n",
              " 'nivel_critico': [False, False, False],\n",
              " 'cantidad': [3, 6, 8]}"
            ]
          },
          "metadata": {},
          "execution_count": 34
        }
      ]
    }
  ]
}